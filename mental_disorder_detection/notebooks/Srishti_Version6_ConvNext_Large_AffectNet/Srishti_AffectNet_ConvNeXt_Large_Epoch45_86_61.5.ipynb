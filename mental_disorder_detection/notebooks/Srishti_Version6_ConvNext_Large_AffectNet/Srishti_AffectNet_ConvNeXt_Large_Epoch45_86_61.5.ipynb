version https://git-lfs.github.com/spec/v1
oid sha256:98ffa70ecef9d0df393c5be6ef88d4609b9c1d86b6971352b6119600a913e5c6
size 26185
