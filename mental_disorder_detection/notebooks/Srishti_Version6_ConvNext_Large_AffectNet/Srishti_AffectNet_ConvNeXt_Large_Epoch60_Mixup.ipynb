version https://git-lfs.github.com/spec/v1
oid sha256:b07e3b20ebde1b4b82d0d5407bfabafa59ddac81da2c486f8a2bf11bbe556e28
size 93026
