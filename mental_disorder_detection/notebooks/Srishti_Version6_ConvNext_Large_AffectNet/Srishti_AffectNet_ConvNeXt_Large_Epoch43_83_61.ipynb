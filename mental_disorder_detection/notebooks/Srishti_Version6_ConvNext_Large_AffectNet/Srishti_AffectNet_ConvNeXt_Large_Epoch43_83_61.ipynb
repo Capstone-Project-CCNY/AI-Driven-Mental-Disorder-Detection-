version https://git-lfs.github.com/spec/v1
oid sha256:abccc398b026f43c6f1f6ea3a3ebf53c944b2fcaacf233b188e099c062ac78e8
size 25122
